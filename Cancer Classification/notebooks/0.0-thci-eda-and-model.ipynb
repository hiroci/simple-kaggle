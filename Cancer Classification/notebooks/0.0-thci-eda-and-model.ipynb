{
 "cells": [
  {
   "cell_type": "code",
   "execution_count": 228,
   "metadata": {},
   "outputs": [],
   "source": [
    "import pandas as pd\n",
    "import matplotlib.pyplot as plt\n",
    "import seaborn as sns\n",
    "from sklearn.model_selection import train_test_split\n",
    "plt.style.use('ggplot')\n",
    "import numpy as np"
   ]
  },
  {
   "attachments": {},
   "cell_type": "markdown",
   "metadata": {},
   "source": [
    "# **Reading file**"
   ]
  },
  {
   "cell_type": "code",
   "execution_count": 229,
   "metadata": {},
   "outputs": [],
   "source": [
    "df = pd.read_csv('../data/Cancer_data.csv')"
   ]
  },
  {
   "cell_type": "markdown",
   "metadata": {},
   "source": [
    "### **Type casting and cleaning**"
   ]
  },
  {
   "cell_type": "code",
   "execution_count": 230,
   "metadata": {},
   "outputs": [],
   "source": [
    "df = df.drop('Unnamed: 32',axis=1)\n",
    "df['diagnosis'] = df['diagnosis'].map({'M':1, 'B':0}).astype('int8')"
   ]
  },
  {
   "cell_type": "code",
   "execution_count": 231,
   "metadata": {},
   "outputs": [
    {
     "name": "stdout",
     "output_type": "stream",
     "text": [
      "<class 'pandas.core.frame.DataFrame'>\n",
      "RangeIndex: 569 entries, 0 to 568\n",
      "Data columns (total 32 columns):\n",
      " #   Column                   Non-Null Count  Dtype  \n",
      "---  ------                   --------------  -----  \n",
      " 0   id                       569 non-null    int64  \n",
      " 1   diagnosis                569 non-null    int8   \n",
      " 2   radius_mean              569 non-null    float64\n",
      " 3   texture_mean             569 non-null    float64\n",
      " 4   perimeter_mean           569 non-null    float64\n",
      " 5   area_mean                569 non-null    float64\n",
      " 6   smoothness_mean          569 non-null    float64\n",
      " 7   compactness_mean         569 non-null    float64\n",
      " 8   concavity_mean           569 non-null    float64\n",
      " 9   concave points_mean      569 non-null    float64\n",
      " 10  symmetry_mean            569 non-null    float64\n",
      " 11  fractal_dimension_mean   569 non-null    float64\n",
      " 12  radius_se                569 non-null    float64\n",
      " 13  texture_se               569 non-null    float64\n",
      " 14  perimeter_se             569 non-null    float64\n",
      " 15  area_se                  569 non-null    float64\n",
      " 16  smoothness_se            569 non-null    float64\n",
      " 17  compactness_se           569 non-null    float64\n",
      " 18  concavity_se             569 non-null    float64\n",
      " 19  concave points_se        569 non-null    float64\n",
      " 20  symmetry_se              569 non-null    float64\n",
      " 21  fractal_dimension_se     569 non-null    float64\n",
      " 22  radius_worst             569 non-null    float64\n",
      " 23  texture_worst            569 non-null    float64\n",
      " 24  perimeter_worst          569 non-null    float64\n",
      " 25  area_worst               569 non-null    float64\n",
      " 26  smoothness_worst         569 non-null    float64\n",
      " 27  compactness_worst        569 non-null    float64\n",
      " 28  concavity_worst          569 non-null    float64\n",
      " 29  concave points_worst     569 non-null    float64\n",
      " 30  symmetry_worst           569 non-null    float64\n",
      " 31  fractal_dimension_worst  569 non-null    float64\n",
      "dtypes: float64(30), int64(1), int8(1)\n",
      "memory usage: 138.5 KB\n"
     ]
    }
   ],
   "source": [
    "df.info()"
   ]
  },
  {
   "cell_type": "markdown",
   "metadata": {},
   "source": [
    "### **Checking for NaN**"
   ]
  },
  {
   "cell_type": "code",
   "execution_count": 232,
   "metadata": {},
   "outputs": [
    {
     "data": {
      "text/plain": [
       "0.0"
      ]
     },
     "execution_count": 232,
     "metadata": {},
     "output_type": "execute_result"
    }
   ],
   "source": [
    "df.isna().sum().mean()"
   ]
  },
  {
   "cell_type": "markdown",
   "metadata": {},
   "source": [
    "### No duplicate ids"
   ]
  },
  {
   "cell_type": "code",
   "execution_count": 233,
   "metadata": {},
   "outputs": [
    {
     "data": {
      "text/plain": [
       "(569, 569)"
      ]
     },
     "execution_count": 233,
     "metadata": {},
     "output_type": "execute_result"
    }
   ],
   "source": [
    "df.id.nunique(), df.shape[0]"
   ]
  },
  {
   "cell_type": "markdown",
   "metadata": {},
   "source": [
    "### **Features and target**"
   ]
  },
  {
   "cell_type": "code",
   "execution_count": 234,
   "metadata": {},
   "outputs": [],
   "source": [
    "features = df.drop(['id','diagnosis'], axis=1)\n",
    "target = df['diagnosis']"
   ]
  },
  {
   "attachments": {},
   "cell_type": "markdown",
   "metadata": {},
   "source": [
    "### **Classes Percentage**"
   ]
  },
  {
   "cell_type": "code",
   "execution_count": 235,
   "metadata": {},
   "outputs": [
    {
     "data": {
      "image/png": "[encoded data removed]",
      "text/plain": [
       "<Figure size 432x288 with 1 Axes>"
      ]
     },
     "metadata": {},
     "output_type": "display_data"
    }
   ],
   "source": [
    "plt.pie(target.value_counts(), labels=['Benign', 'Malignant'], autopct='%.0f%%');"
   ]
  },
  {
   "cell_type": "markdown",
   "metadata": {},
   "source": [
    "### **Removing outliers**"
   ]
  },
  {
   "cell_type": "code",
   "execution_count": 236,
   "metadata": {},
   "outputs": [],
   "source": [
    "def drop_out_of_quantile(column):\n",
    "    lower = column.quantile(.1)\n",
    "    upper = column.quantile(.9)\n",
    "\n",
    "    column = column.where((column < upper) & (column > lower))\n",
    "\n",
    "    "
   ]
  },
  {
   "cell_type": "code",
   "execution_count": 237,
   "metadata": {},
   "outputs": [],
   "source": [
    "for column_name in features:\n",
    "    \n",
    "    column = features[column_name]\n",
    "\n",
    "    lower = column.quantile(.01)\n",
    "    upper = column.quantile(.99)\n",
    "\n",
    "    features[column_name] = column.where((column < upper) & (column > lower))"
   ]
  },
  {
   "cell_type": "code",
   "execution_count": 238,
   "metadata": {},
   "outputs": [],
   "source": [
    "features = features.dropna()\n",
    "target = target.iloc[features.index]"
   ]
  },
  {
   "cell_type": "markdown",
   "metadata": {},
   "source": [
    "### **Removing low correlation features**"
   ]
  },
  {
   "cell_type": "code",
   "execution_count": 239,
   "metadata": {},
   "outputs": [],
   "source": [
    "feat_corr = df.corr()[2:]['diagnosis']\n",
    "top_features = feat_corr[(feat_corr > .1) | (feat_corr < -.1)]\n",
    "top_features = features.loc[:, top_features.index]"
   ]
  },
  {
   "cell_type": "code",
   "execution_count": 240,
   "metadata": {},
   "outputs": [],
   "source": [
    "X_train, X_test, y_train, y_test = train_test_split(features, target, test_size=.2)\n",
    "X_train_top, X_test_top, y_train_top, y_test_top = train_test_split(features, target, test_size=.2)"
   ]
  },
  {
   "cell_type": "markdown",
   "metadata": {},
   "source": [
    "### **Random Forest all features**"
   ]
  },
  {
   "cell_type": "code",
   "execution_count": 241,
   "metadata": {},
   "outputs": [
    {
     "name": "stdout",
     "output_type": "stream",
     "text": [
      "              precision    recall  f1-score   support\n",
      "\n",
      "           0       0.98      0.95      0.96        55\n",
      "           1       0.92      0.97      0.94        34\n",
      "\n",
      "    accuracy                           0.96        89\n",
      "   macro avg       0.95      0.96      0.95        89\n",
      "weighted avg       0.96      0.96      0.96        89\n",
      "\n",
      "10 Fold Cross validation mean f1 : 0.9497421798631477\n"
     ]
    }
   ],
   "source": [
    "from sklearn.ensemble import RandomForestClassifier\n",
    "from sklearn.metrics import classification_report\n",
    "from sklearn.model_selection import cross_validate\n",
    "\n",
    "rf = RandomForestClassifier(n_estimators=50,\n",
    "                            max_depth=5,\n",
    "                            random_state=2049,\n",
    "                            class_weight='balanced')\n",
    "\n",
    "rf.fit(X_train, y_train)\n",
    "\n",
    "print(classification_report(y_pred=rf.predict(X_test), y_true=y_test))\n",
    "\n",
    "cv_results = cross_validate(rf, X=features, y=target, cv=10,scoring='f1')\n",
    "print(f'10 Fold Cross validation mean f1 : {cv_results[\"test_score\"].mean()}')"
   ]
  },
  {
   "cell_type": "markdown",
   "metadata": {},
   "source": [
    "### **Random Forest top features**"
   ]
  },
  {
   "cell_type": "code",
   "execution_count": 242,
   "metadata": {},
   "outputs": [
    {
     "name": "stdout",
     "output_type": "stream",
     "text": [
      "              precision    recall  f1-score   support\n",
      "\n",
      "           0       0.95      0.91      0.93        57\n",
      "           1       0.85      0.91      0.88        32\n",
      "\n",
      "    accuracy                           0.91        89\n",
      "   macro avg       0.90      0.91      0.90        89\n",
      "weighted avg       0.91      0.91      0.91        89\n",
      "\n",
      "10 Fold Cross validation mean f1 : 0.9495711143695015\n"
     ]
    }
   ],
   "source": [
    "rf = RandomForestClassifier(n_estimators=50,\n",
    "                            max_depth=5,\n",
    "                            random_state=2049,\n",
    "                            class_weight='balanced')\n",
    "\n",
    "rf.fit(X_train_top, y_train_top)\n",
    "\n",
    "print(classification_report(y_pred=rf.predict(X_test_top), y_true=y_test_top))\n",
    "cv_results = cross_validate(rf, X=top_features, y=target, cv=10,scoring='f1')\n",
    "\n",
    "print(f'10 Fold Cross validation mean f1 : {cv_results[\"test_score\"].mean()}')"
   ]
  },
  {
   "attachments": {},
   "cell_type": "markdown",
   "metadata": {},
   "source": [
    "### **XGBoost all features**"
   ]
  },
  {
   "cell_type": "code",
   "execution_count": 243,
   "metadata": {},
   "outputs": [
    {
     "name": "stdout",
     "output_type": "stream",
     "text": [
      "              precision    recall  f1-score   support\n",
      "\n",
      "           0       1.00      0.98      0.99        55\n",
      "           1       0.97      1.00      0.99        34\n",
      "\n",
      "    accuracy                           0.99        89\n",
      "   macro avg       0.99      0.99      0.99        89\n",
      "weighted avg       0.99      0.99      0.99        89\n",
      "\n",
      "10 Fold Cross validation mean f1 : 0.9741739980449658\n"
     ]
    }
   ],
   "source": [
    "from xgboost import XGBClassifier\n",
    "\n",
    "scale_pos_weight = (target == False).sum()/(target == True).sum()\n",
    "xgb = XGBClassifier(objective='binary:logistic',\n",
    "                    scale_pos_weight=scale_pos_weight,\n",
    "                    n_estimators=100)\n",
    "\n",
    "xgb.fit(X_train_top, y_train_top)\n",
    "print(classification_report(y_true=y_test, y_pred=rf.predict(X_test)))\n",
    "\n",
    "cv_results = cross_validate(xgb, X=features, y=target, cv=10,scoring='f1')\n",
    "print(f'10 Fold Cross validation mean f1 : {cv_results[\"test_score\"].mean()}')"
   ]
  },
  {
   "cell_type": "markdown",
   "metadata": {},
   "source": [
    "### **XGBoost top features**"
   ]
  },
  {
   "cell_type": "code",
   "execution_count": 244,
   "metadata": {},
   "outputs": [
    {
     "name": "stdout",
     "output_type": "stream",
     "text": [
      "              precision    recall  f1-score   support\n",
      "\n",
      "           0       0.95      0.91      0.93        57\n",
      "           1       0.85      0.91      0.88        32\n",
      "\n",
      "    accuracy                           0.91        89\n",
      "   macro avg       0.90      0.91      0.90        89\n",
      "weighted avg       0.91      0.91      0.91        89\n",
      "\n",
      "10 Fold Cross validation mean f1 : 0.9745906647116325\n"
     ]
    }
   ],
   "source": [
    "xgb = XGBClassifier(objective='binary:logistic',\n",
    "                    scale_pos_weight=scale_pos_weight,\n",
    "                    n_estimators=100)\n",
    "\n",
    "xgb.fit(X_train_top, y_train_top)\n",
    "print(classification_report(y_true=y_test_top, y_pred=rf.predict(X_test_top)))\n",
    "\n",
    "cv_results = cross_validate(xgb, X=top_features, y=target, cv=10,scoring='f1')\n",
    "print(f'10 Fold Cross validation mean f1 : {cv_results[\"test_score\"].mean()}')"
   ]
  },
  {
   "cell_type": "markdown",
   "metadata": {},
   "source": [
    "### **Grid Search**"
   ]
  },
  {
   "cell_type": "code",
   "execution_count": 245,
   "metadata": {},
   "outputs": [],
   "source": [
    "from sklearn.model_selection import GridSearchCV\n",
    "\n",
    "params = {\n",
    "    \"n_estimators\": [20, 60, 100],\n",
    "    \"max_depth\": [ 2, 5],\n",
    "    \"max_leaves\":[0, 2, 5],\n",
    "    \"learning_rate\":[.1, .01, .5],\n",
    "    \"verbosity\": [1],\n",
    "    \"objective\": ['binary:logistic'],\n",
    "    \"n_jobs\": [-1],\n",
    "    \"scale_pos_weight\": [None, scale_pos_weight, np.sqrt(scale_pos_weight)]\n",
    "}\n",
    "grid = GridSearchCV(XGBClassifier(), \n",
    "                    param_grid=params,\n",
    "                    cv=10, \n",
    "                    scoring='f1')\n"
   ]
  },
  {
   "cell_type": "code",
   "execution_count": 246,
   "metadata": {},
   "outputs": [
    {
     "data": {
      "text/plain": [
       "GridSearchCV(cv=10,\n",
       "             estimator=XGBClassifier(base_score=None, booster=None,\n",
       "                                     callbacks=None, colsample_bylevel=None,\n",
       "                                     colsample_bynode=None,\n",
       "                                     colsample_bytree=None,\n",
       "                                     early_stopping_rounds=None,\n",
       "                                     enable_categorical=False, eval_metric=None,\n",
       "                                     feature_types=None, gamma=None,\n",
       "                                     gpu_id=None, grow_policy=None,\n",
       "                                     importance_type=None,\n",
       "                                     interaction_constraints=None,\n",
       "                                     learning_rate=None...\n",
       "                                     missing=nan, monotone_constraints=None,\n",
       "                                     n_estimators=100, n_jobs=None,\n",
       "                                     num_parallel_tree=None, predictor=None,\n",
       "                                     random_state=None, ...),\n",
       "             param_grid={'learning_rate': [0.1, 0.01, 0.5], 'max_depth': [2, 5],\n",
       "                         'max_leaves': [0, 2, 5], 'n_estimators': [20, 60, 100],\n",
       "                         'n_jobs': [-1], 'objective': ['binary:logistic'],\n",
       "                         'scale_pos_weight': [None, 1.7911392405063291,\n",
       "                                              1.3383345024717583],\n",
       "                         'verbosity': [1]},\n",
       "             scoring='f1')"
      ]
     },
     "execution_count": 246,
     "metadata": {},
     "output_type": "execute_result"
    }
   ],
   "source": [
    "grid.fit(X_train_top, y_train_top)"
   ]
  },
  {
   "cell_type": "code",
   "execution_count": 247,
   "metadata": {},
   "outputs": [],
   "source": [
    "best_xgb = XGBClassifier(**grid.best_params_)"
   ]
  },
  {
   "cell_type": "code",
   "execution_count": 248,
   "metadata": {},
   "outputs": [
    {
     "name": "stdout",
     "output_type": "stream",
     "text": [
      "10 Fold Cross validation mean f1 : 0.9743890518084068\n"
     ]
    }
   ],
   "source": [
    "cv_results = cross_validate(best_xgb, X=top_features, y=target, cv=10,scoring='f1')\n",
    "print(f'10 Fold Cross validation mean f1 : {cv_results[\"test_score\"].mean()}')"
   ]
  },
  {
   "cell_type": "markdown",
   "metadata": {},
   "source": [
    "### **LightGBM all features**"
   ]
  },
  {
   "cell_type": "code",
   "execution_count": 249,
   "metadata": {},
   "outputs": [
    {
     "name": "stdout",
     "output_type": "stream",
     "text": [
      "              precision    recall  f1-score   support\n",
      "\n",
      "           0       1.00      0.98      0.99        55\n",
      "           1       0.97      1.00      0.99        34\n",
      "\n",
      "    accuracy                           0.99        89\n",
      "   macro avg       0.99      0.99      0.99        89\n",
      "weighted avg       0.99      0.99      0.99        89\n",
      "\n",
      "10 Fold Cross validation mean f1 : 0.970733137829912\n"
     ]
    }
   ],
   "source": [
    "from lightgbm import LGBMClassifier\n",
    "\n",
    "lgb = LGBMClassifier(class_weight='balanced')\n",
    "\n",
    "lgb.fit(X_train, y_train)\n",
    "\n",
    "print(classification_report(y_true=y_test, y_pred=rf.predict(X_test)))\n",
    "\n",
    "cv_results = cross_validate(lgb, X=features, y=target, cv=10,scoring='f1')\n",
    "print(f'10 Fold Cross validation mean f1 : {cv_results[\"test_score\"].mean()}')"
   ]
  },
  {
   "cell_type": "code",
   "execution_count": 250,
   "metadata": {},
   "outputs": [
    {
     "name": "stdout",
     "output_type": "stream",
     "text": [
      "              precision    recall  f1-score   support\n",
      "\n",
      "           0       0.95      0.91      0.93        57\n",
      "           1       0.85      0.91      0.88        32\n",
      "\n",
      "    accuracy                           0.91        89\n",
      "   macro avg       0.90      0.91      0.90        89\n",
      "weighted avg       0.91      0.91      0.91        89\n",
      "\n",
      "10 Fold Cross validation mean f1 : 0.9741665823979506\n"
     ]
    }
   ],
   "source": [
    "lgb.fit(X_train_top, y_train_top)\n",
    "\n",
    "print(classification_report(y_true=y_test_top, y_pred=rf.predict(X_test_top)))\n",
    "\n",
    "cv_results = cross_validate(lgb, X=top_features, y=target, cv=10,scoring='f1')\n",
    "print(f'10 Fold Cross validation mean f1 : {cv_results[\"test_score\"].mean()}')"
   ]
  }
 ],
 "metadata": {
  "kernelspec": {
   "display_name": "base",
   "language": "python",
   "name": "python3"
  },
  "language_info": {
   "codemirror_mode": {
    "name": "ipython",
    "version": 3
   },
   "file_extension": ".py",
   "mimetype": "text/x-python",
   "name": "python",
   "nbconvert_exporter": "python",
   "pygments_lexer": "ipython3",
   "version": "3.9.12"
  },
  "orig_nbformat": 4
 },
 "nbformat": 4,
 "nbformat_minor": 2
}
